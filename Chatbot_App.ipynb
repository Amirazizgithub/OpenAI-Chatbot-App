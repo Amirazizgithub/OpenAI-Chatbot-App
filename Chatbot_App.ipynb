{
 "cells": [
  {
   "cell_type": "markdown",
   "id": "f76f1255",
   "metadata": {},
   "source": [
    "# Chatbot using OpenAI"
   ]
  },
  {
   "cell_type": "code",
   "execution_count": 1,
   "id": "145c8211",
   "metadata": {},
   "outputs": [
    {
     "name": "stdout",
     "output_type": "stream",
     "text": [
      "user: Hello\n",
      "Chatbot: Hello! How can I assist you today?\n",
      "\n",
      "user: write about chatbot in 10 words online\n",
      "Chatbot: \"AI-powered virtual assistant providing interactive and personalized conversation online.\"\n",
      "\n",
      "user: write 4 lines poem on AI\n",
      "Chatbot: In realms of code, AI's brilliance shines,\n",
      "Unleashing knowledge, expanding our minds.\n",
      "From algorithms deep, it learns and grows,\n",
      "A digital marvel, innovation it bestows.\n",
      "\n",
      "user: stop\n",
      "Chatbot: Thank You! It's my pleasure to chat with you\n"
     ]
    }
   ],
   "source": [
    "import openai\n",
    "\n",
    "# Replace 'YOUR_API_KEY' with your actual OpenAI API key\n",
    "api_key = \"sk-****....\"\n",
    "\n",
    "# Set the API key\n",
    "openai.api_key = api_key\n",
    "\n",
    "messages = [{\"role\": \"system\", \"content\": \"You are ChatGPT, a large language model trained by OpenAI.\"}]\n",
    "\n",
    "while True:\n",
    "    # Taking input from user\n",
    "    input_message = input('user: ')\n",
    "    \n",
    "    # Apply condition to exit from chat loop\n",
    "    if input_message == \"stop\":\n",
    "        print(\"Chatbot: Thank You! It's my pleasure to chat with you\")\n",
    "        break\n",
    "    elif input_message:\n",
    "        messages.append({'role':'user', 'content':input_message})\n",
    "        response = openai.ChatCompletion.create(model='gpt-3.5-turbo', messages=messages, temperature = 0.5)\n",
    "    \n",
    "    reply = response.choices[0].message['content']\n",
    "    print(f\"Chatbot: {reply}\\n\")\n",
    "    messages.append({\"role\":'assistant', 'content':reply})"
   ]
  }
 ],
 "metadata": {
  "kernelspec": {
   "display_name": "Python 3 (ipykernel)",
   "language": "python",
   "name": "python3"
  },
  "language_info": {
   "codemirror_mode": {
    "name": "ipython",
    "version": 3
   },
   "file_extension": ".py",
   "mimetype": "text/x-python",
   "name": "python",
   "nbconvert_exporter": "python",
   "pygments_lexer": "ipython3",
   "version": "3.9.13"
  }
 },
 "nbformat": 4,
 "nbformat_minor": 5
}
